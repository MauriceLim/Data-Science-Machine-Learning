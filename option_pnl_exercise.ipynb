{
 "cells": [
  {
   "cell_type": "markdown",
   "metadata": {},
   "source": [
    "# Option PNL Exercise"
   ]
  },
  {
   "cell_type": "markdown",
   "metadata": {},
   "source": [
    "The goal of this exercise is to calculate the delta-hedged PNL of a short option position.  Rather than using simulated data, we will use real-world data.\n",
    "\n",
    "The file `option_pnl.csv` contains the price data for a particular option that traded in the market.  Your assignment is the calculate the PNL of selling this option starting on 1/2/2018 and then delta-hedging it through its expiration on 12/31/2018.  You can assume that the risk-free rate and dividend yield are both zero.\n",
    "\n",
    "Answer the following questions:\n",
    "1. What was the implied volatility of the option at the time of execution?\n",
    "1. What was the realized volatility of the underlying over the life of the delta-hedged option position?\n",
    "1. Based on the difference between implied volatility and realized volatility, would you expect to make or lose money?\n",
    "1. What is the cumulative PNL for holding this delta-hedged option position?\n",
    "1. How does the actual PNL compare with the PNL that would be predicted by the vega at the time of execution?  What could explain the discrepancies?\n",
    "\n",
    "**Note:** Your deliverable will be a Jupyter Notebook containing all your code."
   ]
  },
  {
   "cell_type": "code",
   "execution_count": 45,
   "metadata": {},
   "outputs": [
    {
     "name": "stdout",
     "output_type": "stream",
     "text": [
      "Implied volatility at execution: 0.1327\n",
      "Realized volatility: 0.1723\n",
      "Expect to lose money since realized volatility is higher than implied.\n",
      "Total PNL (option PNL + delta hedging PNL): -3.752832\n",
      "Predicted PNL based on Vega: -4.236322\n"
     ]
    }
   ],
   "source": [
    "import pandas as pd\n",
    "import numpy as np\n",
    "import matplotlib.pyplot as plt\n",
    "from scipy.stats import norm\n",
    "\n",
    "# Load data\n",
    "df = pd.read_csv('/Users/yuanhanlim/Desktop/01_option_pnl/option_pnl.csv')\n",
    "\n",
    "# Step 1: Implied volatility at the time of execution\n",
    "implied_vol = df['volatility'].iloc[0]\n",
    "print(f\"Implied volatility at execution: {implied_vol:.4f}\")\n",
    "\n",
    "# Step 2: Realized volatility calculation using log returns\n",
    "df['log_return'] = np.log(df['upx'] / df['upx'].shift(1))\n",
    "realized_vol = df['log_return'].std() * np.sqrt(252)  # annualized volatility\n",
    "print(f\"Realized volatility: {realized_vol:.4f}\")\n",
    "\n",
    "# Step 3: PNL expectation based on volatility difference\n",
    "if realized_vol < implied_vol:\n",
    "    print(\"Expect to make money since realized volatility is lower than implied.\")\n",
    "else:\n",
    "    print(\"Expect to lose money since realized volatility is higher than implied.\")\n",
    "\n",
    "# Function to calculate d1\n",
    "def calculate_d1(S, K, T, sigma, r=0):\n",
    "    return (np.log(S / K) + (r + 0.5 * sigma ** 2) * T) / ((sigma * np.sqrt(T))+0.000000001)\n",
    "\n",
    "# Function to calculate put option delta\n",
    "def calculate_put_delta(S, K, T, sigma, r=0):\n",
    "    d1 = calculate_d1(S, K, T, sigma, r)\n",
    "    return norm.cdf(d1) - 1  # Delta for a put option\n",
    "\n",
    "# Apply Black-Scholes formula to each row in the DataFrame\n",
    "df['delta'] = df.apply(lambda row: calculate_put_delta(row['upx'], row['strike'], row['t2x'], row['volatility']), axis=1)\n",
    "\n",
    "# Step 4: Option PNL (simply the daily change in option price)\n",
    "df['option_pnl'] = df['buy_sell']* df['option_price'].diff()\n",
    "\n",
    "# Step 5: Calculate daily PNL from delta hedging (hedge PNL)\n",
    "df['delta_hedged_pnl'] = df['delta'].shift(1) * df['upx'].diff()\n",
    "\n",
    "# Step 6: Total PNL calculation (Option PNL + Delta-Hedged PNL)\n",
    "df['total_pnl'] = df['option_pnl'] + df['delta_hedged_pnl']\n",
    "print(f\"Total PNL (option PNL + delta hedging PNL): {df['total_pnl'].sum():.6f}\")\n",
    "\n",
    "# Step 7: Vega-based PNL prediction\n",
    "# Vega is typically calculated as: Vega = S * sqrt(T) * N'(d1), we calculate it at execution\n",
    "def calculate_vega(S, K, T, sigma, r=0):\n",
    "    d1 = calculate_d1(S, K, T, sigma, r)\n",
    "    return S * np.sqrt(T) * norm.pdf(d1)\n",
    "\n",
    "# Vega at execution (first row)\n",
    "vega_at_execution = calculate_vega(df['upx'].iloc[0], df['strike'].iloc[0], df['t2x'].iloc[0], df['volatility'].iloc[0])\n",
    "\n",
    "# Volatility difference\n",
    "vol_diff = implied_vol - realized_vol\n",
    "\n",
    "# Predicted PNL from Vega\n",
    "predicted_pnl_from_vega = vega_at_execution * vol_diff\n",
    "print(f\"Predicted PNL based on Vega: {predicted_pnl_from_vega:.6f}\")"
   ]
  },
  {
   "cell_type": "markdown",
   "metadata": {},
   "source": [
    "1. Delta Hedging Imperfection: Delta hedging assumes continuous rebalancing, but in practice, you can only hedge discretely at each trading interval. Small mismatches in timing or price movements between hedging adjustments can lead to deviations from the expected Vega-based PNL.\n",
    "2. Model Assumptions: The Black-Scholes model assumes constant volatility, no transaction costs, and continuous rebalancing. However, in reality, volatility is not constant, which can cause differences between realized and implied volatility over time. Moreover, transaction costs, bid-ask spreads, and liquidity constraints might also affect actual PNL, making it different from what the theoretical model predicts."
   ]
  },
  {
   "cell_type": "code",
   "execution_count": 46,
   "metadata": {},
   "outputs": [
    {
     "name": "stdout",
     "output_type": "stream",
     "text": [
      "Vega at time of execution: 106.98290121798476\n"
     ]
    }
   ],
   "source": [
    "import numpy as np\n",
    "from scipy.stats import norm\n",
    "\n",
    "def black_scholes_vega(S, K, T, r, sigma):\n",
    "    # d1 formula\n",
    "    d1 = (np.log(S / K) + (r + 0.5 * sigma**2) * T) / (sigma * np.sqrt(T))\n",
    "    \n",
    "    # Calculate Vega (S * sqrt(T) * N'(d1))\n",
    "    vega = S * np.sqrt(T) * norm.pdf(d1)\n",
    "    \n",
    "    return vega\n",
    "\n",
    "# Inputs for the Vega calculation\n",
    "S = 269.677         # Spot price of SPY on 1/2/18\n",
    "K = 269             # Strike price\n",
    "T = 0.996031746     # Time to expiration (t2x on 1/2/18)\n",
    "r = 0               # Risk-free rate\n",
    "sigma = 0.1327      # Implied volatility on 1/2/18\n",
    "\n",
    "# Calculate Vega\n",
    "vega = black_scholes_vega(S, K, T, r, sigma)\n",
    "print(f\"Vega at time of execution: {vega}\")\n"
   ]
  },
  {
   "cell_type": "code",
   "execution_count": null,
   "metadata": {},
   "outputs": [],
   "source": []
  }
 ],
 "metadata": {
  "kernelspec": {
   "display_name": "Python 3 (ipykernel)",
   "language": "python",
   "name": "python3"
  },
  "language_info": {
   "codemirror_mode": {
    "name": "ipython",
    "version": 3
   },
   "file_extension": ".py",
   "mimetype": "text/x-python",
   "name": "python",
   "nbconvert_exporter": "python",
   "pygments_lexer": "ipython3",
   "version": "3.10.13"
  }
 },
 "nbformat": 4,
 "nbformat_minor": 4
}
