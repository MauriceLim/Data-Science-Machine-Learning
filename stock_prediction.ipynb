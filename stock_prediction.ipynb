{
 "cells": [
  {
   "cell_type": "markdown",
   "metadata": {},
   "source": [
    "# Stock Prediction Homework"
   ]
  },
  {
   "cell_type": "markdown",
   "metadata": {},
   "source": [
    "This homework is related to the stock_prediction tutorial.  For trading days in 1/1/2016-7/31/2021, you will test a simple trading strategy based on the predictions of the linear regression and the KNN models.  The trading strategy will be as follows: go long MSFT when the model predicts a gain, go short MSFT when the model predicts a loss.  You will compare the performance of these strategies to a buy and hold (long only) strategy.\n",
    "\n",
    "To complete the assignment, do the following:\n",
    "\n",
    "#1) Add 2-day lag and 3-day lag MSFT returns to the feature set, call them `msft_lag_2` and `msft_lag_3`, respectively.\n",
    "\n",
    "#2) Calculate the percent of days that the models are correct.  Also, calculate the percent of days that the long-only strategy is correct.\n",
    "\n",
    "#3) Calculate the annualized Sharpe Ratio (avg return / stdev returns) of the three strategies: linear regression, KNN, and long-only."
   ]
  },
  {
   "cell_type": "code",
   "execution_count": 23,
   "metadata": {},
   "outputs": [
    {
     "name": "stdout",
     "output_type": "stream",
     "text": [
      "[*********************100%%**********************]  3 of 3 completed"
     ]
    },
    {
     "name": "stderr",
     "output_type": "stream",
     "text": [
      "/Users/yuanhanlim/anaconda3/lib/python3.10/site-packages/yfinance/utils.py:782: FutureWarning: The 'unit' keyword in TimedeltaIndex construction is deprecated and will be removed in a future version. Use pd.to_timedelta instead.\n",
      "  df.index += _pd.TimedeltaIndex(dst_error_hours, 'h')\n",
      "/Users/yuanhanlim/anaconda3/lib/python3.10/site-packages/yfinance/utils.py:782: FutureWarning: The 'unit' keyword in TimedeltaIndex construction is deprecated and will be removed in a future version. Use pd.to_timedelta instead.\n",
      "  df.index += _pd.TimedeltaIndex(dst_error_hours, 'h')\n",
      "/Users/yuanhanlim/anaconda3/lib/python3.10/site-packages/yfinance/utils.py:782: FutureWarning: The 'unit' keyword in TimedeltaIndex construction is deprecated and will be removed in a future version. Use pd.to_timedelta instead.\n",
      "  df.index += _pd.TimedeltaIndex(dst_error_hours, 'h')\n"
     ]
    },
    {
     "name": "stdout",
     "output_type": "stream",
     "text": [
      "\n",
      "[*********************100%%**********************]  3 of 3 completed\n"
     ]
    },
    {
     "name": "stderr",
     "output_type": "stream",
     "text": [
      "/Users/yuanhanlim/anaconda3/lib/python3.10/site-packages/yfinance/utils.py:782: FutureWarning: The 'unit' keyword in TimedeltaIndex construction is deprecated and will be removed in a future version. Use pd.to_timedelta instead.\n",
      "  df.index += _pd.TimedeltaIndex(dst_error_hours, 'h')\n",
      "/Users/yuanhanlim/anaconda3/lib/python3.10/site-packages/yfinance/utils.py:782: FutureWarning: The 'unit' keyword in TimedeltaIndex construction is deprecated and will be removed in a future version. Use pd.to_timedelta instead.\n",
      "  df.index += _pd.TimedeltaIndex(dst_error_hours, 'h')\n",
      "/Users/yuanhanlim/anaconda3/lib/python3.10/site-packages/yfinance/utils.py:782: FutureWarning: The 'unit' keyword in TimedeltaIndex construction is deprecated and will be removed in a future version. Use pd.to_timedelta instead.\n",
      "  df.index += _pd.TimedeltaIndex(dst_error_hours, 'h')\n"
     ]
    },
    {
     "data": {
      "text/html": [
       "<div>\n",
       "<style scoped>\n",
       "    .dataframe tbody tr th:only-of-type {\n",
       "        vertical-align: middle;\n",
       "    }\n",
       "\n",
       "    .dataframe tbody tr th {\n",
       "        vertical-align: top;\n",
       "    }\n",
       "\n",
       "    .dataframe thead th {\n",
       "        text-align: right;\n",
       "    }\n",
       "</style>\n",
       "<table border=\"1\" class=\"dataframe\">\n",
       "  <thead>\n",
       "    <tr style=\"text-align: right;\">\n",
       "      <th></th>\n",
       "      <th>googl</th>\n",
       "      <th>ibm</th>\n",
       "      <th>msft</th>\n",
       "      <th>dia</th>\n",
       "      <th>spy</th>\n",
       "      <th>vix</th>\n",
       "      <th>dexjpus</th>\n",
       "      <th>dexusuk</th>\n",
       "      <th>msft_lag_0</th>\n",
       "      <th>msft_lag_1</th>\n",
       "      <th>msft_lag_2</th>\n",
       "      <th>msft_lag_3</th>\n",
       "    </tr>\n",
       "    <tr>\n",
       "      <th>trade_date</th>\n",
       "      <th></th>\n",
       "      <th></th>\n",
       "      <th></th>\n",
       "      <th></th>\n",
       "      <th></th>\n",
       "      <th></th>\n",
       "      <th></th>\n",
       "      <th></th>\n",
       "      <th></th>\n",
       "      <th></th>\n",
       "      <th></th>\n",
       "      <th></th>\n",
       "    </tr>\n",
       "  </thead>\n",
       "  <tbody>\n",
       "    <tr>\n",
       "      <th>2005-01-05</th>\n",
       "      <td>-0.005090</td>\n",
       "      <td>-0.002069</td>\n",
       "      <td>-0.002236</td>\n",
       "      <td>-0.005551</td>\n",
       "      <td>-0.006901</td>\n",
       "      <td>0.110001</td>\n",
       "      <td>-0.003069</td>\n",
       "      <td>0.002177</td>\n",
       "      <td>-0.002236</td>\n",
       "      <td>0.003740</td>\n",
       "      <td>NaN</td>\n",
       "      <td>NaN</td>\n",
       "    </tr>\n",
       "    <tr>\n",
       "      <th>2005-01-06</th>\n",
       "      <td>-0.025632</td>\n",
       "      <td>-0.003109</td>\n",
       "      <td>-0.001120</td>\n",
       "      <td>0.003122</td>\n",
       "      <td>0.005084</td>\n",
       "      <td>-0.510000</td>\n",
       "      <td>0.008850</td>\n",
       "      <td>-0.006570</td>\n",
       "      <td>-0.001120</td>\n",
       "      <td>-0.002236</td>\n",
       "      <td>NaN</td>\n",
       "      <td>NaN</td>\n",
       "    </tr>\n",
       "    <tr>\n",
       "      <th>2005-01-07</th>\n",
       "      <td>0.028109</td>\n",
       "      <td>-0.004366</td>\n",
       "      <td>-0.002990</td>\n",
       "      <td>-0.001886</td>\n",
       "      <td>-0.001433</td>\n",
       "      <td>-0.090000</td>\n",
       "      <td>0.000572</td>\n",
       "      <td>-0.002613</td>\n",
       "      <td>-0.002990</td>\n",
       "      <td>-0.001120</td>\n",
       "      <td>-0.002236</td>\n",
       "      <td>NaN</td>\n",
       "    </tr>\n",
       "    <tr>\n",
       "      <th>2005-01-10</th>\n",
       "      <td>0.006242</td>\n",
       "      <td>-0.001044</td>\n",
       "      <td>0.004874</td>\n",
       "      <td>0.003402</td>\n",
       "      <td>0.004728</td>\n",
       "      <td>-0.260000</td>\n",
       "      <td>-0.005813</td>\n",
       "      <td>0.002620</td>\n",
       "      <td>0.004874</td>\n",
       "      <td>-0.002990</td>\n",
       "      <td>-0.001120</td>\n",
       "      <td>-0.002236</td>\n",
       "    </tr>\n",
       "    <tr>\n",
       "      <th>2005-01-11</th>\n",
       "      <td>-0.007793</td>\n",
       "      <td>-0.007107</td>\n",
       "      <td>-0.002612</td>\n",
       "      <td>-0.006404</td>\n",
       "      <td>-0.006891</td>\n",
       "      <td>-0.040000</td>\n",
       "      <td>-0.008627</td>\n",
       "      <td>0.002400</td>\n",
       "      <td>-0.002612</td>\n",
       "      <td>0.004874</td>\n",
       "      <td>-0.002990</td>\n",
       "      <td>-0.001120</td>\n",
       "    </tr>\n",
       "  </tbody>\n",
       "</table>\n",
       "</div>"
      ],
      "text/plain": [
       "               googl       ibm      msft       dia       spy       vix  \\\n",
       "trade_date                                                               \n",
       "2005-01-05 -0.005090 -0.002069 -0.002236 -0.005551 -0.006901  0.110001   \n",
       "2005-01-06 -0.025632 -0.003109 -0.001120  0.003122  0.005084 -0.510000   \n",
       "2005-01-07  0.028109 -0.004366 -0.002990 -0.001886 -0.001433 -0.090000   \n",
       "2005-01-10  0.006242 -0.001044  0.004874  0.003402  0.004728 -0.260000   \n",
       "2005-01-11 -0.007793 -0.007107 -0.002612 -0.006404 -0.006891 -0.040000   \n",
       "\n",
       "             dexjpus   dexusuk  msft_lag_0  msft_lag_1  msft_lag_2  msft_lag_3  \n",
       "trade_date                                                                      \n",
       "2005-01-05 -0.003069  0.002177   -0.002236    0.003740         NaN         NaN  \n",
       "2005-01-06  0.008850 -0.006570   -0.001120   -0.002236         NaN         NaN  \n",
       "2005-01-07  0.000572 -0.002613   -0.002990   -0.001120   -0.002236         NaN  \n",
       "2005-01-10 -0.005813  0.002620    0.004874   -0.002990   -0.001120   -0.002236  \n",
       "2005-01-11 -0.008627  0.002400   -0.002612    0.004874   -0.002990   -0.001120  "
      ]
     },
     "execution_count": 23,
     "metadata": {},
     "output_type": "execute_result"
    }
   ],
   "source": [
    "import numpy as np\n",
    "import pandas as pd\n",
    "import yfinance as yf\n",
    "yf.pdr_override()\n",
    "from pandas_datareader import data as pdr\n",
    "import sklearn\n",
    "\n",
    "stock_tickers = ['MSFT', 'IBM', 'GOOGL'] # define tickers\n",
    "df_stock = pdr.get_data_yahoo(stock_tickers, start='2005-01-01', end='2021-07-31') # grab the data\n",
    "df_stock = df_stock['Adj Close'] # select only the adjusted close price\n",
    "df_stock.columns = df_stock.columns.str.lower() # clean-up column names\n",
    "df_stock.rename_axis('trade_date', inplace=True) # clean-up index name\n",
    "df_stock.rename_axis('', axis=1, inplace=True) # clean-up index name\n",
    "\n",
    "currency_tickers = ['DEXJPUS', 'DEXUSUK']\n",
    "df_currency = pdr.get_data_fred(currency_tickers, start='2005-01-01', end='2021-07-31')\n",
    "df_currency = df_currency\n",
    "df_currency.columns = df_currency.columns.str.lower()\n",
    "df_currency.rename_axis('trade_date', inplace=True)\n",
    "df_currency.rename_axis('', axis=1, inplace=True)\n",
    "\n",
    "index_tickers = ['SPY', 'DIA', '^VIX'] \n",
    "df_index = pdr.get_data_yahoo(index_tickers, start='2005-01-01', end='2021-07-31')\n",
    "df_index = df_index['Adj Close']\n",
    "df_index.columns = df_index.columns.str.lower().str.replace('^', '')\n",
    "df_index.rename_axis('trade_date', inplace=True)\n",
    "df_index.rename_axis('', axis=1, inplace=True)\n",
    "df_index\n",
    "\n",
    "df_data = \\\n",
    "    (\n",
    "    df_stock\n",
    "        .merge(df_index, how='left', left_index=True, right_index=True) # join currency data\n",
    "        .merge(df_currency, how='left', left_index=True, right_index=True) # join index data\n",
    "        .dropna()\n",
    "        .assign(msft = lambda df: df['msft'].pct_change())   # percent change\n",
    "        .assign(msft_lag_0 = lambda df: df['msft'].shift(0)) #\n",
    "        .assign(msft_lag_1 = lambda df: df['msft'].shift(1)) #\n",
    "        .assign(ibm = lambda df: df['ibm'].pct_change())     #\n",
    "        .assign(googl = lambda df: df['googl'].pct_change()) #\n",
    "        .assign(spy = lambda df: df['spy'].pct_change())     #\n",
    "        .assign(dia = lambda df: df['dia'].pct_change())     #\n",
    "        .assign(vix = lambda df: df['vix'].diff())           # absolute change\n",
    "        .assign(dexjpus = lambda df: df['dexjpus'].pct_change()) # percent change\n",
    "        .assign(dexusuk = lambda df: df['dexusuk'].pct_change()) #\n",
    "        .dropna()\n",
    "    )\n",
    "\n",
    "# Add 2-day and 3-day lagged returns for MSFT\n",
    "df_data['msft_lag_2'] = df_data['msft'].shift(2)\n",
    "df_data['msft_lag_3'] = df_data['msft'].shift(3)\n",
    "\n",
    "df_data.head()\n",
    "\n",
    "     "
   ]
  },
  {
   "cell_type": "markdown",
   "metadata": {},
   "source": [
    "### 2. "
   ]
  },
  {
   "cell_type": "code",
   "execution_count": 31,
   "metadata": {},
   "outputs": [],
   "source": [
    "df_train = df_data.query('trade_date < \"2016-01-01\"')\n",
    "df_test = df_data.query('trade_date >= \"2016-01-01\"')"
   ]
  },
  {
   "cell_type": "code",
   "execution_count": 40,
   "metadata": {},
   "outputs": [],
   "source": [
    "X_train = df_train.drop(columns=['msft'])[0:len(df_train)-1].dropna()\n",
    "y_train = df_train[['msft']][1:len(df_train)][3:]"
   ]
  },
  {
   "cell_type": "code",
   "execution_count": 42,
   "metadata": {},
   "outputs": [
    {
     "name": "stdout",
     "output_type": "stream",
     "text": [
      "LR R^2: 0.021352475057364262\n"
     ]
    },
    {
     "data": {
      "text/plain": [
       "array([[ 0.004, -0.025,  0.294, -0.434,  0.   ,  0.113, -0.001,  0.031,\n",
       "        -0.027,  0.021, -0.055]])"
      ]
     },
     "execution_count": 42,
     "metadata": {},
     "output_type": "execute_result"
    }
   ],
   "source": [
    "from sklearn.linear_model import LinearRegression\n",
    "linear_regression = LinearRegression()\n",
    "linear_regression.fit(X_train, y_train)\n",
    "print(\"LR R^2:\", linear_regression.score(X_train, y_train))\n",
    "np.round(linear_regression.coef_, 3)"
   ]
  },
  {
   "cell_type": "code",
   "execution_count": 43,
   "metadata": {},
   "outputs": [
    {
     "name": "stdout",
     "output_type": "stream",
     "text": [
      "KNN R^2: 0.11683868914980078\n"
     ]
    }
   ],
   "source": [
    "from sklearn.neighbors import KNeighborsRegressor\n",
    "knn = KNeighborsRegressor(n_neighbors=10)\n",
    "knn.fit(X_train, y_train)\n",
    "print(\"KNN R^2:\", knn.score(X_train, y_train))\n"
   ]
  },
  {
   "cell_type": "code",
   "execution_count": 67,
   "metadata": {},
   "outputs": [],
   "source": [
    "X_test = df_test.drop(columns=['msft'])[0:len(df_test)-1]\n",
    "y_test = df_test[['msft']][1:len(df_test)]     "
   ]
  },
  {
   "cell_type": "code",
   "execution_count": 71,
   "metadata": {},
   "outputs": [
    {
     "name": "stdout",
     "output_type": "stream",
     "text": [
      "Linear Regression Accuracy: 0.526\n",
      "KNN Accuracy: 0.499\n",
      "Long-Only Strategy Accuracy: 0.553\n"
     ]
    },
    {
     "name": "stderr",
     "output_type": "stream",
     "text": [
      "/Users/yuanhanlim/anaconda3/lib/python3.10/site-packages/sklearn/neighbors/_classification.py:238: DataConversionWarning: A column-vector y was passed when a 1d array was expected. Please change the shape of y to (n_samples,), for example using ravel().\n",
      "  return self._fit(X, y)\n"
     ]
    }
   ],
   "source": [
    "# Calculate predictions for Linear Regression\n",
    "y_pred_lr = linear_regression.predict(X_test)\n",
    "y_test_binary = np.where(y_test > 0, 1, 0)  # 1 if actual return is positive\n",
    "y_pred_binary_lr = np.where(y_pred_lr > 0, 1, 0)  # 1 if predicted return is positive\n",
    "\n",
    "# KNN Model\n",
    "from sklearn.neighbors import KNeighborsClassifier\n",
    "\n",
    "knn_model = KNeighborsClassifier(n_neighbors=3)\n",
    "knn_model.fit(X_train, y_train > 0)  # Train KNN on binary output\n",
    "y_pred_knn = knn_model.predict(X_test)\n",
    "\n",
    "# Long-only strategy (always long, i.e., predict positive return every day)\n",
    "y_pred_long_only = np.ones_like(y_test_binary)  # Always predict 1 (positive return)\n",
    "\n",
    "# Calculate accuracy (percentage of correct predictions)\n",
    "accuracy_lr = np.mean(y_test_binary == y_pred_binary_lr)  # Linear Regression accuracy\n",
    "accuracy_knn = np.mean(y_test_binary == y_pred_knn)\n",
    "accuracy_long_only = np.mean(y_test_binary == y_pred_long_only)  # Long-only accuracy\n",
    "\n",
    "# Print the results\n",
    "print(f\"Linear Regression Accuracy: {accuracy_lr:.3f}\")\n",
    "print(f\"KNN Accuracy: {accuracy_knn:.3f}\")\n",
    "print(f\"Long-Only Strategy Accuracy: {accuracy_long_only:.3f}\")"
   ]
  },
  {
   "cell_type": "markdown",
   "metadata": {},
   "source": [
    "### 3. Calculate daily returns based on the strategy predictions"
   ]
  },
  {
   "cell_type": "code",
   "execution_count": 72,
   "metadata": {},
   "outputs": [
    {
     "name": "stdout",
     "output_type": "stream",
     "text": [
      "Linear Regression Sharpe Ratio: 0.229\n",
      "KNN Sharpe Ratio: 0.569\n",
      "Long-Only Strategy Sharpe Ratio: 1.308\n"
     ]
    }
   ],
   "source": [
    "# Linear Regression Strategy: Go long if prediction is positive, go short if negative\n",
    "returns_lr = np.where(y_pred_binary_lr == 1, y_test.values.flatten(), -y_test.values.flatten())\n",
    "\n",
    "# KNN Strategy: Go long if prediction is positive, go short if negative\n",
    "returns_knn = np.where(y_pred_knn == 1, y_test.values.flatten(), -y_test.values.flatten())\n",
    "\n",
    "# Long-only Strategy: Always long\n",
    "returns_long_only = y_test.values.flatten()  # Since always long, the return is just the actual return\n",
    "\n",
    "# Calculate the average returns and standard deviation of returns for each strategy\n",
    "avg_return_lr = np.mean(returns_lr)\n",
    "std_return_lr = np.std(returns_lr)\n",
    "\n",
    "avg_return_knn = np.mean(returns_knn)\n",
    "std_return_knn = np.std(returns_knn)\n",
    "\n",
    "avg_return_long_only = np.mean(returns_long_only)\n",
    "std_return_long_only = np.std(returns_long_only)\n",
    "\n",
    "# Annualized Sharpe Ratio (assuming 252 trading days)\n",
    "sharpe_ratio_lr = (avg_return_lr / std_return_lr) * np.sqrt(252)\n",
    "sharpe_ratio_knn = (avg_return_knn / std_return_knn) * np.sqrt(252)\n",
    "sharpe_ratio_long_only = (avg_return_long_only / std_return_long_only) * np.sqrt(252)\n",
    "\n",
    "# Print the results\n",
    "print(f\"Linear Regression Sharpe Ratio: {sharpe_ratio_lr:.3f}\")\n",
    "print(f\"KNN Sharpe Ratio: {sharpe_ratio_knn:.3f}\")\n",
    "print(f\"Long-Only Strategy Sharpe Ratio: {sharpe_ratio_long_only:.3f}\")\n"
   ]
  },
  {
   "cell_type": "markdown",
   "metadata": {},
   "source": [
    "### We should just long only "
   ]
  },
  {
   "cell_type": "code",
   "execution_count": null,
   "metadata": {},
   "outputs": [],
   "source": []
  }
 ],
 "metadata": {
  "kernelspec": {
   "display_name": "Python 3 (ipykernel)",
   "language": "python",
   "name": "python3"
  },
  "language_info": {
   "codemirror_mode": {
    "name": "ipython",
    "version": 3
   },
   "file_extension": ".py",
   "mimetype": "text/x-python",
   "name": "python",
   "nbconvert_exporter": "python",
   "pygments_lexer": "ipython3",
   "version": "3.10.13"
  }
 },
 "nbformat": 4,
 "nbformat_minor": 4
}
