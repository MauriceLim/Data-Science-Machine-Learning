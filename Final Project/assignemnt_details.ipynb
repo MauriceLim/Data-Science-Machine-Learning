{
 "cells": [
  {
   "cell_type": "markdown",
   "id": "b3d9c437-e09c-43c3-85a9-a370ee1c2d57",
   "metadata": {},
   "source": [
    "## Long-Short Strategy Using MLFactor Data"
   ]
  },
  {
   "cell_type": "markdown",
   "id": "119e4bab-f59d-4fb5-a885-23d05760a874",
   "metadata": {},
   "source": [
    "In this project you will use the MLFactor data to formulate a long-short, dollar-neutral, trading strategy that you will backtest.\n",
    "\n",
    "Your strategy will be informed by the inferences of one several machine learning models.  The positions in the trading strategy will be rebalanced each month.  The models will be refit at each rebalancing using some amount of the most recent historical data.  The totality of the data is from 2000-2018.  The backtest period will be the 11 years from 2008-2018."
   ]
  },
  {
   "cell_type": "markdown",
   "id": "51bfac98-b616-4d65-8550-cc97094033e7",
   "metadata": {},
   "source": [
    "**Coding and Analysis (Jupyter Notebooks) -- 200 pts**"
   ]
  },
  {
   "cell_type": "markdown",
   "id": "cd5f9998-da2a-41c1-8399-4e46800b4d53",
   "metadata": {},
   "source": [
    "1. Using data from 2000-2007, select 30-40 features using the framework in this article: https://www.kaggle.com/code/sgalella/correlation-heatmaps-with-hierarchical-clustering.  This will have the effect of removing highly correlated (hence redundant) features.  These will be the features that you use throughout the rest of the project.\n",
    "\n",
    "- Max\n",
    "\n",
    "2. Use the following models:\n",
    "\n",
    "    - `LinearRegression` - Maurice\n",
    "    - Dense Feed-Forward Neural Network Regression - Patrick\n",
    "    - Dense Feed-Forward Neural Network Classification - Karan\n",
    "\n",
    "**Warnging:** There are two different lables: `R1M_Usd` for regression and `R1M_Usd_C` for classification.  Be sure not to use the regression label as a *feature* for the classification formulation, and vice-versa.\n",
    "\n",
    "3. With the Neural Network models, experiment with:\n",
    "\n",
    "    - different architectures (hidden layers and hidden units)\n",
    "    - regularization\n",
    "    - number of epochs and batch sizes\n",
    "\n",
    "(this seems neat)\n",
    "\n",
    "4. Experiment with different look-back windows of historical data to use at each refitting/rebalancing.\n",
    "\n",
    "All/7 years/3 years ?? (my recommendation)\n",
    "\n",
    "5. Use a variety of investment performance metrics to compare the different approaches to formulating the strategy; be sure to include correlation to the equally weighted market portfolio.\n",
    "\n",
    "Annualized Return\n",
    "Annualized Volatility\n",
    "Sharpe Ratio\n",
    "\n",
    "6. Make a final conclusion about the strategy specification, including which model and architecture that you would use.\n",
    "\n",
    "Go long short based on probabilities/classification\n",
    "\n",
    "**Grading Rubric:**\n",
    "- accuracy of results: 100 pts\n",
    "- code commenting: 50 pts\n",
    "- readability of notebook: 50 pts"
   ]
  },
  {
   "cell_type": "markdown",
   "id": "6a29976b-6a83-4e1f-939a-27fa116e184f",
   "metadata": {},
   "source": [
    "**Presentation -- 100 pts**\n",
    "\n",
    "1. Create a slide presentation.\n",
    "\n",
    "2. Give a comparative analysis of the various strategy specifications you tried.\n",
    "\n",
    "3. Give your conclusion as to which strategy specification you would ultimately use.\n",
    "\n",
    "Your presentation should be 10-15 minutes and include visualizations."
   ]
  }
 ],
 "metadata": {
  "kernelspec": {
   "display_name": "python3",
   "language": "python",
   "name": "python3"
  }
 },
 "nbformat": 4,
 "nbformat_minor": 5
}
