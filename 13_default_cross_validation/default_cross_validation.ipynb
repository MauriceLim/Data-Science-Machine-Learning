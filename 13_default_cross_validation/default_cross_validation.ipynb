{
 "cells": [
  {
   "cell_type": "markdown",
   "metadata": {},
   "source": [
    "# Validation Set and Cross Validation with `default` Data Set"
   ]
  },
  {
   "cell_type": "markdown",
   "metadata": {},
   "source": [
    "Complete exercise #5 in section 5.4 in *Introduction to Statistical Learning 2ed* (pp 220-221).\n",
    "\n",
    "For (b),(c) and (d), feel free to use convenience functions from `sklearn`.\n",
    "\n",
    "Wherever possible, set `random_state=0` so that your results are reproducable."
   ]
  },
  {
   "cell_type": "code",
   "execution_count": 1,
   "metadata": {},
   "outputs": [
    {
     "data": {
      "text/html": [
       "<div>\n",
       "<style scoped>\n",
       "    .dataframe tbody tr th:only-of-type {\n",
       "        vertical-align: middle;\n",
       "    }\n",
       "\n",
       "    .dataframe tbody tr th {\n",
       "        vertical-align: top;\n",
       "    }\n",
       "\n",
       "    .dataframe thead th {\n",
       "        text-align: right;\n",
       "    }\n",
       "</style>\n",
       "<table border=\"1\" class=\"dataframe\">\n",
       "  <thead>\n",
       "    <tr style=\"text-align: right;\">\n",
       "      <th></th>\n",
       "      <th>default</th>\n",
       "      <th>student</th>\n",
       "      <th>balance</th>\n",
       "      <th>income</th>\n",
       "    </tr>\n",
       "  </thead>\n",
       "  <tbody>\n",
       "    <tr>\n",
       "      <th>0</th>\n",
       "      <td>No</td>\n",
       "      <td>No</td>\n",
       "      <td>729.526495</td>\n",
       "      <td>44361.625074</td>\n",
       "    </tr>\n",
       "    <tr>\n",
       "      <th>1</th>\n",
       "      <td>No</td>\n",
       "      <td>Yes</td>\n",
       "      <td>817.180407</td>\n",
       "      <td>12106.134700</td>\n",
       "    </tr>\n",
       "    <tr>\n",
       "      <th>2</th>\n",
       "      <td>No</td>\n",
       "      <td>No</td>\n",
       "      <td>1073.549164</td>\n",
       "      <td>31767.138947</td>\n",
       "    </tr>\n",
       "    <tr>\n",
       "      <th>3</th>\n",
       "      <td>No</td>\n",
       "      <td>No</td>\n",
       "      <td>529.250605</td>\n",
       "      <td>35704.493935</td>\n",
       "    </tr>\n",
       "    <tr>\n",
       "      <th>4</th>\n",
       "      <td>No</td>\n",
       "      <td>No</td>\n",
       "      <td>785.655883</td>\n",
       "      <td>38463.495879</td>\n",
       "    </tr>\n",
       "  </tbody>\n",
       "</table>\n",
       "</div>"
      ],
      "text/plain": [
       "  default student      balance        income\n",
       "0      No      No   729.526495  44361.625074\n",
       "1      No     Yes   817.180407  12106.134700\n",
       "2      No      No  1073.549164  31767.138947\n",
       "3      No      No   529.250605  35704.493935\n",
       "4      No      No   785.655883  38463.495879"
      ]
     },
     "execution_count": 1,
     "metadata": {},
     "output_type": "execute_result"
    }
   ],
   "source": [
    "import pandas as pd\n",
    "\n",
    "# Load the dataset to inspect its structure\n",
    "file_path = '/Users/yuanhanlim/Desktop/DS & ML/13_default_cross_validation/default.csv'\n",
    "default_data = pd.read_csv(file_path)\n",
    "\n",
    "# Display the first few rows of the dataset for inspection\n",
    "default_data.head()"
   ]
  },
  {
   "cell_type": "code",
   "execution_count": 2,
   "metadata": {},
   "outputs": [
    {
     "data": {
      "text/plain": [
       "(array([[2.08089741e-05, 5.64710265e-03]]), array([-11.54046792]))"
      ]
     },
     "execution_count": 2,
     "metadata": {},
     "output_type": "execute_result"
    }
   ],
   "source": [
    "from sklearn.model_selection import train_test_split\n",
    "from sklearn.linear_model import LogisticRegression\n",
    "from sklearn.metrics import accuracy_score\n",
    "import numpy as np\n",
    "\n",
    "# Encode categorical variables\n",
    "default_data['default'] = default_data['default'].apply(lambda x: 1 if x == 'Yes' else 0)\n",
    "default_data['student'] = default_data['student'].apply(lambda x: 1 if x == 'Yes' else 0)\n",
    "\n",
    "# Task (a): Fit a logistic regression model using income and balance to predict default\n",
    "X = default_data[['income', 'balance']]\n",
    "y = default_data['default']\n",
    "\n",
    "# Initialize the logistic regression model\n",
    "model = LogisticRegression()\n",
    "model.fit(X, y)\n",
    "\n",
    "# Display coefficients of the fitted model\n",
    "model.coef_, model.intercept_\n"
   ]
  },
  {
   "cell_type": "code",
   "execution_count": 3,
   "metadata": {},
   "outputs": [
    {
     "data": {
      "text/plain": [
       "0.026666666666666616"
      ]
     },
     "execution_count": 3,
     "metadata": {},
     "output_type": "execute_result"
    }
   ],
   "source": [
    "# Set random seed for reproducibility\n",
    "np.random.seed(42)\n",
    "\n",
    "# Task (b): Validation set approach to estimate test error\n",
    "\n",
    "# Split the data into training and validation sets (70% train, 30% validation)\n",
    "X_train, X_val, y_train, y_val = train_test_split(X, y, test_size=0.3, random_state=42)\n",
    "\n",
    "# Fit the logistic regression model on the training set\n",
    "model.fit(X_train, y_train)\n",
    "\n",
    "# Predict on the validation set\n",
    "y_pred_proba = model.predict_proba(X_val)[:, 1]  # Get probabilities for the positive class (default = 1)\n",
    "y_pred = (y_pred_proba > 0.5).astype(int)  # Classify based on probability threshold of 0.5\n",
    "\n",
    "# Compute the validation set error (misclassification rate)\n",
    "validation_error = 1 - accuracy_score(y_val, y_pred)\n",
    "validation_error\n"
   ]
  },
  {
   "cell_type": "code",
   "execution_count": 4,
   "metadata": {},
   "outputs": [
    {
     "data": {
      "text/plain": [
       "[0.024666666666666615, 0.025666666666666615, 0.02633333333333332]"
      ]
     },
     "execution_count": 4,
     "metadata": {},
     "output_type": "execute_result"
    }
   ],
   "source": [
    "# Task (c): Repeat the validation set approach with three different splits\n",
    "errors = []\n",
    "\n",
    "for seed in [1, 123, 456]:\n",
    "    np.random.seed(seed)\n",
    "    X_train, X_val, y_train, y_val = train_test_split(X, y, test_size=0.3, random_state=seed)\n",
    "    model.fit(X_train, y_train)\n",
    "    y_pred = (model.predict_proba(X_val)[:, 1] > 0.5).astype(int)\n",
    "    errors.append(1 - accuracy_score(y_val, y_pred))\n",
    "\n",
    "errors\n"
   ]
  },
  {
   "cell_type": "markdown",
   "metadata": {},
   "source": [
    "These results are fairly consistent, suggesting that the model performs reliably across different random splits of the data."
   ]
  },
  {
   "cell_type": "code",
   "execution_count": 5,
   "metadata": {},
   "outputs": [
    {
     "data": {
      "text/plain": [
       "[0.024333333333333318, 0.02733333333333332, 0.027000000000000024]"
      ]
     },
     "execution_count": 5,
     "metadata": {},
     "output_type": "execute_result"
    }
   ],
   "source": [
    "# Task (d): Include the student variable and evaluate the test error\n",
    "\n",
    "# Add 'student' to the features\n",
    "X_with_student = default_data[['income', 'balance', 'student']]\n",
    "\n",
    "# Repeat the validation set approach with the new model\n",
    "errors_with_student = []\n",
    "\n",
    "for seed in [1, 123, 456]:\n",
    "    np.random.seed(seed)\n",
    "    X_train, X_val, y_train, y_val = train_test_split(X_with_student, y, test_size=0.3, random_state=seed)\n",
    "    model.fit(X_train, y_train)\n",
    "    y_pred = (model.predict_proba(X_val)[:, 1] > 0.5).astype(int)\n",
    "    errors_with_student.append(1 - accuracy_score(y_val, y_pred))\n",
    "\n",
    "errors_with_student\n"
   ]
  },
  {
   "cell_type": "markdown",
   "metadata": {},
   "source": [
    "Including the student variable does not consistently reduce the test error compared to the model without it. The impact of this variable on model performance appears minimal in this context."
   ]
  },
  {
   "cell_type": "code",
   "execution_count": null,
   "metadata": {},
   "outputs": [],
   "source": []
  }
 ],
 "metadata": {
  "kernelspec": {
   "display_name": "Python 3 (ipykernel)",
   "language": "python",
   "name": "python3"
  },
  "language_info": {
   "codemirror_mode": {
    "name": "ipython",
    "version": 3
   },
   "file_extension": ".py",
   "mimetype": "text/x-python",
   "name": "python",
   "nbconvert_exporter": "python",
   "pygments_lexer": "ipython3",
   "version": "3.10.13"
  }
 },
 "nbformat": 4,
 "nbformat_minor": 4
}
